{
  "nbformat": 4,
  "nbformat_minor": 0,
  "metadata": {
    "colab": {
      "provenance": []
    },
    "kernelspec": {
      "name": "python3",
      "display_name": "Python 3"
    },
    "language_info": {
      "name": "python"
    }
  },
  "cells": [
    {
      "cell_type": "markdown",
      "source": [
        "**1. Two Sum**"
      ],
      "metadata": {
        "id": "H3oPxzUjhl5Q"
      }
    },
    {
      "cell_type": "code",
      "execution_count": null,
      "metadata": {
        "id": "55k1ehHdCN_t"
      },
      "outputs": [],
      "source": [
        "# class Solution:\n",
        "#     def twoSum(self, nums: List[int], target: int) -> List[int]:\n",
        "#         for i in range(len(nums)):\n",
        "#             if (target - nums[i]) in nums.remove(nums[i]):\n",
        "#                 for r in range(len(nums.remove(nums[i]))):\n",
        "#                     if (target - nums[r]) == nums[i]:\n",
        "#                         if (r >= i):\n",
        "#                             return [i, r-1]\n",
        "#                             break\n",
        "#                         else:\n",
        "#                             return [i, r]\n",
        "#                             break\n",
        "#                         break\n",
        "#                 break\n",
        "\n",
        "class Solution:\n",
        "    def twoSum(self, nums: List[int], target: int) -> List[int]:\n",
        "        # Проходим по всем элементам списка\n",
        "        for i in range(len(nums)):\n",
        "            # Ищем пару для nums[i]\n",
        "            for j, num in enumerate(nums):\n",
        "                # Пропускаем текущий индекс i\n",
        "                if i == j:\n",
        "                    continue\n",
        "                # Проверяем, образуют ли числа сумму, равную target\n",
        "                if nums[i] + num == target:\n",
        "                    return [i, j]\n",
        "\n",
        "        # На случай, если не будет найдено решение (но задача предполагает, что решение всегда есть)\n",
        "        return []"
      ]
    },
    {
      "cell_type": "markdown",
      "source": [
        "**2. Add Two Numbers**"
      ],
      "metadata": {
        "id": "f5lHzEqFh9Kv"
      }
    },
    {
      "cell_type": "code",
      "source": [
        "# Definition for singly-linked list.\n",
        "# class ListNode:\n",
        "#     def __init__(self, val=0, next=None):\n",
        "#         self.val = val\n",
        "#         self.next = next\n",
        "# class Solution:\n",
        "#     def addTwoNumbers(self, l1: Optional[ListNode], l2: Optional[ListNode]) -> Optional[ListNode]:\n",
        "#         lst = []\n",
        "#         b = -1\n",
        "#         for i in l1:\n",
        "#             lst.append(l1[b] + l2[b])\n",
        "#             b -= 1\n",
        "#         for x in range(len(lst) - 1):\n",
        "#             if lst[x] >= 10:\n",
        "#                 lst[x+1] += 1\n",
        "#                 lst[x] -= 10\n",
        "\n",
        "#         def lst2link(lst):\n",
        "#             cur = dummy = ListNode(0)\n",
        "#             for e in lst:\n",
        "#                 cur.next = ListNode(e)\n",
        "#                 cur = cur.next\n",
        "#             return dummy.next\n",
        "\n",
        "#         lst2link(lst)\n",
        "\n",
        "class Solution:\n",
        "    def addTwoNumbers(self, l1: Optional[ListNode], l2: Optional[ListNode]) -> Optional[ListNode]:\n",
        "        dummyHead = ListNode(0)\n",
        "        tail = dummyHead\n",
        "        carry = 0\n",
        "\n",
        "        while l1 is not None or l2 is not None or carry != 0:\n",
        "            digit1 = l1.val if l1 is not None else 0\n",
        "            digit2 = l2.val if l2 is not None else 0\n",
        "\n",
        "            sum = digit1 + digit2 + carry\n",
        "            digit = sum % 10\n",
        "            carry = sum // 10\n",
        "\n",
        "            newNode = ListNode(digit)\n",
        "            tail.next = newNode\n",
        "            tail = tail.next\n",
        "\n",
        "            l1 = l1.next if l1 is not None else None\n",
        "            l2 = l2.next if l2 is not None else None\n",
        "\n",
        "        result = dummyHead.next\n",
        "        dummyHead.next = None\n",
        "        return result"
      ],
      "metadata": {
        "id": "Vjm0m7R5CSf7"
      },
      "execution_count": null,
      "outputs": []
    },
    {
      "cell_type": "markdown",
      "source": [
        "**3. Longest Substring Without Repeating Characters**"
      ],
      "metadata": {
        "id": "VGkeGnf1iCzF"
      }
    },
    {
      "cell_type": "code",
      "source": [
        "class Solution:\n",
        "    def lengthOfLongestSubstring(self, s: str) -> int:\n",
        "        current = 0\n",
        "        max_len = 0\n",
        "\n",
        "        if s == \" \":\n",
        "            max_len = 1\n",
        "\n",
        "        lst = []\n",
        "\n",
        "        for i in s:\n",
        "            if i not in lst:\n",
        "                lst.append(i)\n",
        "                current += 1\n",
        "            else:\n",
        "                index = lst.index(i)\n",
        "                lst = lst[index + 1:]\n",
        "                lst.append(i)\n",
        "                current = len(lst)\n",
        "            max_len = max(max_len, current)\n",
        "\n",
        "        return max(max_len, current)"
      ],
      "metadata": {
        "id": "v1rjTjYOCYkw"
      },
      "execution_count": null,
      "outputs": []
    },
    {
      "cell_type": "markdown",
      "source": [
        "**4. Median of Two Sorted Arrays**"
      ],
      "metadata": {
        "id": "DrrLzmZUiHRT"
      }
    },
    {
      "cell_type": "code",
      "source": [
        "class Solution:\n",
        "    def findMedianSortedArrays(self, nums1: List[int], nums2: List[int]) -> float:\n",
        "        if not nums1 and not nums2:\n",
        "          return 0\n",
        "\n",
        "        lst = sorted(nums1 + nums2)\n",
        "        a = round(len(lst) / 2) + 1\n",
        "\n",
        "        # for i in range(round(len(lst) / 2)):\n",
        "        if len(lst) % 2 == 0:\n",
        "            return (lst[round(len(lst) / 2) - 1] + lst[round(len(lst) / 2)]) / 2\n",
        "        elif len(lst) <= 3:\n",
        "            return lst[round(len(lst) / 2) - 1]\n",
        "        else:\n",
        "            return lst[round(len(lst) / 2)]"
      ],
      "metadata": {
        "id": "W_hXZzL7Cdx0"
      },
      "execution_count": null,
      "outputs": []
    },
    {
      "cell_type": "markdown",
      "source": [
        "**7. Reverse Integer**"
      ],
      "metadata": {
        "id": "CrpHmC72i3TC"
      }
    },
    {
      "cell_type": "code",
      "source": [
        "class Solution:\n",
        "    def reverse(self, x: int) -> int:\n",
        "\n",
        "        a = str(abs(x))[::-1]\n",
        "\n",
        "        if x < 0:\n",
        "            a = int(a) * -1\n",
        "\n",
        "        if int(a) > 2 ** 31 - 1 or int(a) < -2 ** 31:\n",
        "            return 0\n",
        "\n",
        "        return int(a)"
      ],
      "metadata": {
        "id": "hLKuXIYTi0DS"
      },
      "execution_count": null,
      "outputs": []
    },
    {
      "cell_type": "markdown",
      "source": [
        "**9. Palindrome Number**"
      ],
      "metadata": {
        "id": "cH5weHumiMGY"
      }
    },
    {
      "cell_type": "code",
      "source": [
        "# class Solution:\n",
        "#     def isPalindrome(self, x: int) -> bool:\n",
        "#         a = []\n",
        "#         b = 0\n",
        "#         for i in str(x):\n",
        "#             b += 1\n",
        "#         for i in range(len(str(x))):\n",
        "#             if i == (b - 1) and b >= 1:\n",
        "#                 a.append(str(x)[i])\n",
        "#                 b -= 1\n",
        "#             else:\n",
        "#                 a.append(str(x)[i])\n",
        "#         if a == list(str(x)):\n",
        "#             return True\n",
        "#         else:\n",
        "#             return False\n",
        "\n",
        "class Solution:\n",
        "    def isPalindrome(self, x: int) -> bool:\n",
        "        a = []\n",
        "        b = -1\n",
        "        for i in str(x):\n",
        "            b += 1\n",
        "        for i in range(len(str(x))):\n",
        "            if b >= 0:\n",
        "                a.append(str(x)[b])\n",
        "                b -= 1\n",
        "            else:\n",
        "                a.append(str(x)[i])\n",
        "        if a == list(str(x)):\n",
        "            return True\n",
        "        else:\n",
        "            return False"
      ],
      "metadata": {
        "id": "OvUzjwSHCipK"
      },
      "execution_count": null,
      "outputs": []
    },
    {
      "cell_type": "markdown",
      "source": [
        "**13. Roman to Integer**"
      ],
      "metadata": {
        "id": "vA-Nzba8jAmR"
      }
    },
    {
      "cell_type": "code",
      "source": [
        "class Solution:\n",
        "    def romanToInt(self, s: str) -> int:\n",
        "        dict = {'I': 1,\n",
        "                'V': 5,\n",
        "                'X': 10,\n",
        "                'L': 50,\n",
        "                'C': 100,\n",
        "                'D': 500,\n",
        "                'M': 1000}\n",
        "        cnt = 0\n",
        "        for i in range(len(s)):\n",
        "            if i < len(s) - 1 and dict[s[i]] < dict[s[i+1]]:\n",
        "                cnt -= dict[s[i]]\n",
        "            else:\n",
        "                cnt += dict[s[i]]\n",
        "        return cnt"
      ],
      "metadata": {
        "id": "AlqdWSQ8i-vB"
      },
      "execution_count": null,
      "outputs": []
    },
    {
      "cell_type": "markdown",
      "source": [
        "**14. Longest Common Prefix**"
      ],
      "metadata": {
        "id": "OM3WSd82jEcp"
      }
    },
    {
      "cell_type": "code",
      "source": [
        "class Solution:\n",
        "    def longestCommonPrefix(self, strs: List[str]) -> str:\n",
        "\n",
        "        prefix = ''\n",
        "        sort_list = sorted(strs)\n",
        "\n",
        "        for i in range(len(min(sort_list))):\n",
        "            if sort_list[0][i] == sort_list[-1][i]:\n",
        "                prefix += sort_list[0][i]\n",
        "            else:\n",
        "                break\n",
        "\n",
        "        return prefix"
      ],
      "metadata": {
        "id": "tmD_Un7LjDAT"
      },
      "execution_count": null,
      "outputs": []
    },
    {
      "cell_type": "markdown",
      "source": [
        "**20. Valid Parentheses**"
      ],
      "metadata": {
        "id": "6cJWB49xiQav"
      }
    },
    {
      "cell_type": "code",
      "source": [
        "class Solution:\n",
        "    def isValid(self, s: str) -> bool:\n",
        "        lst = []\n",
        "        dict = {\")\":\"(\",\n",
        "                \"}\":\"{\",\n",
        "                \"]\":\"[\"}\n",
        "\n",
        "        for i in s:\n",
        "            if i in dict.values():\n",
        "                lst.append(i)\n",
        "            elif i in dict.keys():\n",
        "                if not lst or dict[i] != lst.pop():\n",
        "                    return False\n",
        "\n",
        "        return not lst"
      ],
      "metadata": {
        "id": "XF_SYojkCrMN"
      },
      "execution_count": null,
      "outputs": []
    },
    {
      "cell_type": "markdown",
      "source": [
        "**21. Merge Two Sorted Lists**"
      ],
      "metadata": {
        "id": "cQtQscekiTYh"
      }
    },
    {
      "cell_type": "code",
      "source": [
        "# Definition for singly-linked list.\n",
        "# class ListNode:\n",
        "#     def __init__(self, val=0, next=None):\n",
        "#         self.val = val\n",
        "#         self.next = next\n",
        "\n",
        "class Solution:\n",
        "    def mergeTwoLists(self, list1: Optional[ListNode], list2: Optional[ListNode]) -> Optional[ListNode]:\n",
        "        # if not list(list1) and not list(list2):\n",
        "        #     return []\n",
        "\n",
        "        # list1, list2 = list(list1), list(list2)\n",
        "\n",
        "        # lst = sorted(list1 + list2)\n",
        "\n",
        "        # return lst\n",
        "        cur = dummy = ListNode()\n",
        "        while list1 and list2:\n",
        "            if list1.val < list2.val:\n",
        "                cur.next = list1\n",
        "                list1, cur = list1.next, list1\n",
        "            else:\n",
        "                cur.next = list2\n",
        "                list2, cur = list2.next, list2\n",
        "\n",
        "        if list1 or list2:\n",
        "            cur.next = list1 if list1 else list2\n",
        "\n",
        "        return dummy.next\n"
      ],
      "metadata": {
        "id": "wB88eStDC5T1"
      },
      "execution_count": null,
      "outputs": []
    },
    {
      "cell_type": "markdown",
      "source": [
        "**26. Remove Duplicates from Sorted Array**"
      ],
      "metadata": {
        "id": "_bcLfxn9jRRS"
      }
    },
    {
      "cell_type": "code",
      "source": [
        "class Solution:\n",
        "    def removeDuplicates(self, nums: List[int]) -> int:\n",
        "        k = 1\n",
        "        for i in range(1, len(nums)):\n",
        "            if nums[i-1] != nums[i]:\n",
        "                nums[k] = nums[i]\n",
        "                k += 1\n",
        "        return k"
      ],
      "metadata": {
        "id": "BcMFG_8ajQAs"
      },
      "execution_count": null,
      "outputs": []
    },
    {
      "cell_type": "markdown",
      "source": [
        "**27. Remove Element**"
      ],
      "metadata": {
        "id": "26o1H3qTjUpk"
      }
    },
    {
      "cell_type": "code",
      "source": [
        "class Solution:\n",
        "    def removeElement(self, nums: List[int], val: int) -> int:\n",
        "        while val in nums:\n",
        "            nums.remove(val)\n",
        "        return len(nums)"
      ],
      "metadata": {
        "id": "DUyuko7ojUHJ"
      },
      "execution_count": null,
      "outputs": []
    },
    {
      "cell_type": "markdown",
      "source": [
        "**28. Find the Index of the First Occurrence in a String**"
      ],
      "metadata": {
        "id": "VYaAWzpViX5b"
      }
    },
    {
      "cell_type": "code",
      "source": [
        "class Solution:\n",
        "    def strStr(self, haystack: str, needle: str) -> int:\n",
        "\n",
        "        if len(haystack) < len(needle):\n",
        "            return -1\n",
        "\n",
        "        for i in range(len(haystack)):\n",
        "            if haystack[i:i+len(needle)] == needle:\n",
        "                return i\n",
        "\n",
        "        return -1"
      ],
      "metadata": {
        "id": "uJiipYLKC-a_"
      },
      "execution_count": null,
      "outputs": []
    },
    {
      "cell_type": "markdown",
      "source": [
        "**49. Group Anagrams**"
      ],
      "metadata": {
        "id": "x28-9g8-ic3q"
      }
    },
    {
      "cell_type": "code",
      "source": [
        "class Solution:\n",
        "    def groupAnagrams(self, strs: List[str]) -> List[List[str]]:\n",
        "        if not strs:\n",
        "            return list[list[\"\"]]\n",
        "\n",
        "        dict = {}\n",
        "\n",
        "        for i in strs:\n",
        "            a = i.sort\n",
        "            freq[a] = i\n",
        "\n",
        "        for i in str:"
      ],
      "metadata": {
        "id": "K4wW_W4GFvGN"
      },
      "execution_count": null,
      "outputs": []
    },
    {
      "cell_type": "markdown",
      "source": [
        "**53. Maximum Subarray**"
      ],
      "metadata": {
        "id": "9dIBJMFplnwN"
      }
    },
    {
      "cell_type": "code",
      "source": [
        "class Solution:\n",
        "    def maxSubArray(self, nums: List[int]) -> int:\n",
        "        cnt = nums[0]\n",
        "        cnt2 = nums[0]\n",
        "\n",
        "        for i in range(1, len(nums)):\n",
        "            cnt = max(nums[i], cnt + nums[i])\n",
        "            cnt2 = max(cnt, cnt2)\n",
        "        return cnt2"
      ],
      "metadata": {
        "id": "fanwnKxOlj6V"
      },
      "execution_count": null,
      "outputs": []
    },
    {
      "cell_type": "markdown",
      "source": [
        "**56. Merge Intervals**"
      ],
      "metadata": {
        "id": "BOwUDCN1li-3"
      }
    },
    {
      "cell_type": "code",
      "source": [
        "class Solution:\n",
        "    def merge(self, intervals: List[List[int]]) -> List[List[int]]:\n",
        "\n",
        "        lst = []\n",
        "\n",
        "        intervals.sort(key=lambda x: x[0])\n",
        "\n",
        "        a = intervals[0]\n",
        "\n",
        "        for i in intervals[1:]:\n",
        "            if i[0] <= a[1]:\n",
        "                a[1] = max(a[1], i[1])\n",
        "            else:\n",
        "                lst.append(a)\n",
        "                a = i\n",
        "\n",
        "        lst.append(a)\n",
        "\n",
        "        return lst"
      ],
      "metadata": {
        "id": "ptfY_eVrlhVC"
      },
      "execution_count": null,
      "outputs": []
    },
    {
      "cell_type": "markdown",
      "source": [
        "**88. Merge Sorted Array**"
      ],
      "metadata": {
        "id": "xdSJtorgifA_"
      }
    },
    {
      "cell_type": "code",
      "source": [
        "class Solution:\n",
        "    def merge(self, nums1: List[int], m: int, nums2: List[int], n: int) -> None:\n",
        "        \"\"\"\n",
        "        Do not return anything, modify nums1 in-place instead.\n",
        "        \"\"\"\n",
        "\n",
        "        # a = nums1 + nums2\n",
        "\n",
        "        # b = list(sorted(filter(lambda x: x > 0, a)))\n",
        "\n",
        "        # nums1 = b\n",
        "\n",
        "        # return nums1\n",
        "\n",
        "        # for i in nums2:\n",
        "        #     nums1.append(i)\n",
        "\n",
        "        # cnt = len(nums1)\n",
        "\n",
        "        # for i in nums1:\n",
        "        #     if i == 0:\n",
        "        #         nums1.del(i)\n",
        "\n",
        "        # nums1.sort()\n",
        "\n",
        "        for j in range(n):\n",
        "          nums1[m+j] = nums2[j]\n",
        "        nums1.sort()"
      ],
      "metadata": {
        "id": "eD7fDnmdF0kY"
      },
      "execution_count": null,
      "outputs": []
    },
    {
      "cell_type": "markdown",
      "source": [
        "**169. Majority Element**"
      ],
      "metadata": {
        "id": "n7cnJkRmij7l"
      }
    },
    {
      "cell_type": "code",
      "source": [
        "class Solution:\n",
        "    def majorityElement(self, nums: List[int]) -> int:\n",
        "        freq = {}\n",
        "\n",
        "        for i in nums:\n",
        "            if i in freq:\n",
        "                freq[i] += 1\n",
        "            else:\n",
        "                freq[i] = 1\n",
        "\n",
        "        return max(freq, key=freq.get)"
      ],
      "metadata": {
        "id": "LwGsHxhTGIl8"
      },
      "execution_count": null,
      "outputs": []
    },
    {
      "cell_type": "markdown",
      "source": [
        "**217. Contains Duplicate**"
      ],
      "metadata": {
        "id": "oeGmpz9DmbCZ"
      }
    },
    {
      "cell_type": "code",
      "source": [
        "class Solution:\n",
        "    def containsDuplicate(self, nums: List[int]) -> bool:\n",
        "    #     cnt = 0\n",
        "    #     for i in nums:\n",
        "    #         nums.remove(i)\n",
        "    #         if i in nums:\n",
        "    #             cnt += 0\n",
        "    #         else:\n",
        "    #             cnt += 1\n",
        "    #     if cnt == 0:\n",
        "    #       return True\n",
        "    #     else:\n",
        "    #       return False\n",
        "\n",
        "        if len(set(nums)) == len(nums):\n",
        "            return False\n",
        "        else:\n",
        "            return True"
      ],
      "metadata": {
        "id": "i6UGC1UjmYL4"
      },
      "execution_count": null,
      "outputs": []
    },
    {
      "cell_type": "markdown",
      "source": [
        "**242. Valid Anagram**"
      ],
      "metadata": {
        "id": "xvEiuN4NimO5"
      }
    },
    {
      "cell_type": "code",
      "source": [
        "class Solution:\n",
        "    def isAnagram(self, s: str, t: str) -> bool:\n",
        "        freq1 = {}\n",
        "        freq2 = {}\n",
        "\n",
        "        for i in list(s):\n",
        "            if i in freq1:\n",
        "                freq1[i] += 1\n",
        "            else:\n",
        "                freq1[i] = 1\n",
        "\n",
        "        for i in list(t):\n",
        "            if i in freq2:\n",
        "                freq2[i] += 1\n",
        "            else:\n",
        "                freq2[i] = 1\n",
        "\n",
        "        if freq1 == freq2:\n",
        "            return True\n",
        "        else:\n",
        "            return False"
      ],
      "metadata": {
        "id": "NkFy-YdFGMyK"
      },
      "execution_count": null,
      "outputs": []
    },
    {
      "cell_type": "markdown",
      "source": [
        "**283. Move Zeroes**"
      ],
      "metadata": {
        "id": "BW7HwmWEiop7"
      }
    },
    {
      "cell_type": "code",
      "source": [
        "class Solution:\n",
        "    def moveZeroes(self, nums: List[int]) -> None:\n",
        "        \"\"\"\n",
        "        Do not return anything, modify nums in-place instead.\n",
        "        \"\"\"\n",
        "\n",
        "        for i in range(len(nums)):\n",
        "            if nums[i] == 0:\n",
        "                nums.remove(0)\n",
        "                nums.append(0)"
      ],
      "metadata": {
        "id": "c6TTOTXDGTO8"
      },
      "execution_count": null,
      "outputs": []
    }
  ]
}